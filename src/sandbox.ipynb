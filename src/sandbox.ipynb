{
 "metadata": {
  "language_info": {
   "codemirror_mode": {
    "name": "ipython",
    "version": 3
   },
   "file_extension": ".py",
   "mimetype": "text/x-python",
   "name": "python",
   "nbconvert_exporter": "python",
   "pygments_lexer": "ipython3",
   "version": "3.8.10"
  },
  "orig_nbformat": 4,
  "kernelspec": {
   "name": "python3",
   "display_name": "Python 3",
   "language": "python"
  },
  "interpreter": {
   "hash": "766f29118e0af36fb2f44fc6a47ffaf4f84ad5ea54225c4a9d34264d043a15a1"
  }
 },
 "nbformat": 4,
 "nbformat_minor": 2,
 "cells": [
  {
   "cell_type": "code",
   "execution_count": 1,
   "metadata": {},
   "outputs": [],
   "source": [
    "import os\n",
    "import numpy as np\n",
    "import pickle\n",
    "import h5py\n",
    "import scipy.signal as sps\n",
    "import scipy.interpolate as spi\n",
    "import matplotlib.pyplot as plt\n",
    "import pandas as pd\n",
    "import time\n",
    "from datetime import datetime\n",
    "from feature_editing import FeatureDesigner\n",
    "from dataset_parsing import DataInfo, DataProducer\n",
    "import xgboost as xgb\n"
   ]
  },
  {
   "cell_type": "code",
   "execution_count": 2,
   "metadata": {},
   "outputs": [
    {
     "output_type": "stream",
     "name": "stdout",
     "text": [
      "train arr size (18371500, 20)\ntest arr size (4255300, 20)\ntrain labels size (18371500,)\ntest labels size (4255300,)\n"
     ]
    }
   ],
   "source": [
    "features = [ \n",
    "    'chestACCMean',\n",
    "    'chestACCStd',\n",
    "    # 'chestACC0Mean',\n",
    "    # 'chestACC0Std',\n",
    "    # 'chestACC0Freq',\n",
    "    # 'chestACC1Mean',\n",
    "    # 'chestACC1Std',\n",
    "    # 'chestACC1Freq',\n",
    "    # 'chestACC2Mean',\n",
    "    # 'chestACC2Std',\n",
    "    # 'chestACC2Freq',\n",
    "    'chestECGMeanHR',\n",
    "    'chestECGStdHR',\n",
    "    'chestECGMeanHRV',\n",
    "    'chestECGStdHRV',\n",
    "    # 'chestECGTINN',\n",
    "    # 'chestECGRMS',\n",
    "    'chestEMGMean',\n",
    "    'chestEMGStd',\n",
    "    'chestEMGFq',\n",
    "    'chestEDAMean',\n",
    "    # 'chestEDAMax',\n",
    "    # 'chestEDAMin',\n",
    "    # 'chestEDADyn',\n",
    "    'chestTempMean',\n",
    "    # 'chestTempMax',\n",
    "    # 'chestTempMin',\n",
    "    # 'chestTempDyn',\n",
    "    # 'chestResp',\n",
    "    'wristACCMean',\n",
    "    'wristACCMax',\n",
    "    'wristACCMin',\n",
    "    'wristBVPMeanHR',\n",
    "    'wristBVPStdHR',\n",
    "    'wristBVPMeanHRV',\n",
    "    'wristBVPStdHRV',\n",
    "    # 'wristBVPTINN',\n",
    "    # 'wristBVPRMS',\n",
    "    'wristEDAMean',\n",
    "    # 'wristEDAMax',\n",
    "    # 'wristEDAMin',\n",
    "    # 'wristEDADyn',\n",
    "    'wristTEMPMean',\n",
    "    # 'wristTEMPMax',\n",
    "    # 'wristTEMPMin',\n",
    "    # 'wristTEMPDyn'\n",
    "    ]\n",
    "f = h5py.File('../data/formatted_data_feat.h5', 'r')\n",
    "test_subjects = ['S2']\n",
    "train_subjects = [sub for sub in f.keys() if sub.startswith('S') and sub not in test_subjects]\n",
    "\n",
    "train_arr = np.array([]).reshape(0, len(features))\n",
    "test_arr = np.array([]).reshape(0, len(features))\n",
    "train_labels = np.array([])\n",
    "test_labels = np.array([])\n",
    "\n",
    "for sub in train_subjects:\n",
    "    sub_train_arr = np.array([f[sub][ftr][:] for ftr in features]).T\n",
    "    train_arr = np.concatenate((train_arr, sub_train_arr))\n",
    "    train_labels = np.concatenate((train_labels, f[sub]['label'][:]))\n",
    "for sub in test_subjects:\n",
    "    sub_test_arr = np.array([f[sub][ftr][:] for ftr in features]).T\n",
    "    test_arr = np.concatenate((test_arr, sub_test_arr))\n",
    "    test_labels = np.concatenate((test_labels, f[sub]['label'][:]))\n",
    "\n",
    "print(\"train arr size\", train_arr.shape)\n",
    "print(\"test arr size\", test_arr.shape)\n",
    "print(\"train labels size\", train_labels.shape)\n",
    "print(\"test labels size\", test_labels.shape)\n"
   ]
  },
  {
   "cell_type": "code",
   "execution_count": 3,
   "metadata": {},
   "outputs": [
    {
     "output_type": "stream",
     "name": "stdout",
     "text": [
      "[0]\teval-auc:0.85531\ttrain-auc:0.62182\n",
      "[1]\teval-auc:0.96806\ttrain-auc:0.63936\n",
      "[2]\teval-auc:0.98377\ttrain-auc:0.54903\n",
      "[3]\teval-auc:0.98858\ttrain-auc:0.69259\n",
      "[4]\teval-auc:0.99231\ttrain-auc:0.73375\n",
      "[5]\teval-auc:0.99395\ttrain-auc:0.73375\n",
      "[6]\teval-auc:0.99651\ttrain-auc:0.73375\n",
      "[7]\teval-auc:0.99738\ttrain-auc:0.83836\n",
      "[8]\teval-auc:0.99799\ttrain-auc:0.83472\n",
      "[9]\teval-auc:0.99862\ttrain-auc:0.81225\n"
     ]
    }
   ],
   "source": [
    "x_train = xgb.DMatrix(train_arr, label=[1 if label==2 else 0 for label in train_labels])\n",
    "x_test = xgb.DMatrix(test_arr, label=[1 if label==2 else 0 for label in test_labels])\n",
    "num_round = 10\n",
    "param = {'max_depth': 2, 'eta': 1, 'objective': 'binary:logistic'}\n",
    "param['nthread'] = 4\n",
    "param['eval_metric'] = 'auc'\n",
    "evallist = [(x_train, 'eval'), (x_test, 'train')]\n",
    "bst = xgb.train(param, x_train, num_round, evallist)"
   ]
  }
 ]
}